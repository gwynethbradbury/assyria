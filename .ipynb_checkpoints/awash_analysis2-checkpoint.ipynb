{
 "cells": [
  {
   "cell_type": "code",
   "execution_count": 7,
   "metadata": {},
   "outputs": [],
   "source": [
    "%matplotlib inline\n",
    "from IPython.core.pylabtools import figsize\n",
    "from IPython.core.display import Image\n",
    "\n",
    "import numpy as np\n",
    "import pandas as pd\n",
    "import iris \n",
    "\n",
    "# for mpl patch checking if inside/outside\n",
    "import matplotlib.pyplot as plt\n",
    "from matplotlib import path\n",
    "from matplotlib.patches import Polygon\n",
    "from matplotlib.collections import PatchCollection\n",
    "\n",
    "# from mpl_toolkits.basemap import Basemap\n",
    "import os\n",
    "import netCDF4 as nc\n",
    "import datetime as dt\n",
    "\n",
    "# for working with netcdf files\n",
    "import xarray as xr\n",
    "import xarray.ufuncs as xu\n",
    "\n",
    "# For parallel Computation\n",
    "import dask\n",
    "from dask.distributed import Client\n",
    "import dask.array as da\n",
    "import dask.dataframe as dd\n",
    "from dask import delayed\n",
    "import graphviz"
   ]
  },
  {
   "cell_type": "code",
   "execution_count": 5,
   "metadata": {},
   "outputs": [],
   "source": [
    "data_dir = \"/Users/TommyLees/Desktop/chirps_data/africa_chirps_final_141516.nc\"\n",
    "shapefile_dir = \"/Users/TommyLees/Desktop/chirps_data/awash_analysis/awash_shp/Export_Output.shp\""
   ]
  },
  {
   "cell_type": "markdown",
   "metadata": {
    "collapsed": true
   },
   "source": [
    "## 1. Rasterize shapefile"
   ]
  },
  {
   "cell_type": "markdown",
   "metadata": {
    "collapsed": true
   },
   "source": [
    "## 2. Function to check if point inside shapefile"
   ]
  },
  {
   "cell_type": "code",
   "execution_count": null,
   "metadata": {
    "collapsed": true
   },
   "outputs": [],
   "source": [
    "def point_is_in_mask(mask, point):\n",
    "    # this is just pseudocode\n",
    "    return mask.contains(point)"
   ]
  },
  {
   "cell_type": "markdown",
   "metadata": {
    "collapsed": true
   },
   "source": [
    "## 3. Build your mask"
   ]
  },
  {
   "cell_type": "code",
   "execution_count": null,
   "metadata": {
    "collapsed": true
   },
   "outputs": [],
   "source": [
    "mask = np.zeros((height, width))\n",
    "value = np.zeros((height, width))\n",
    "for y in range(height):\n",
    "    for x in range(width):\n",
    "        if not point_is_in_mask(mask, (x, y)):\n",
    "            value[y][x] = np.nan\n"
   ]
  },
  {
   "cell_type": "markdown",
   "metadata": {
    "collapsed": true
   },
   "source": [
    "## 4. Example matplotlib with Polygon"
   ]
  },
  {
   "cell_type": "code",
   "execution_count": 8,
   "metadata": {},
   "outputs": [],
   "source": [
    "# Define the polygon\n",
    "poly_coords = [[0.3,0.3],[.1,0.4],[.4,.6],[.7,.5],[.6,.2]]\n",
    "poly_path = path.Path(poly_coords)"
   ]
  },
  {
   "cell_type": "code",
   "execution_count": 18,
   "metadata": {},
   "outputs": [],
   "source": [
    "# create points and check whether they are in polygon\n",
    "x = np.linspace(0,1,10)\n",
    "xx,yy = np.meshgrid(x,x)\n",
    "xx,yy = xx.flatten(), yy.flatten()\n",
    "flags = poly_path.contains_points(np.vstack((xx,yy)).T)"
   ]
  },
  {
   "cell_type": "code",
   "execution_count": 21,
   "metadata": {},
   "outputs": [],
   "source": [
    "# ?path.Path"
   ]
  },
  {
   "cell_type": "code",
   "execution_count": 22,
   "metadata": {},
   "outputs": [],
   "source": [
    "# print(x,\"\\n\")\n",
    "# print(np.meshgrid(x,x)[0],\"\\n\")\n",
    "# print(xx)"
   ]
  },
  {
   "cell_type": "code",
   "execution_count": 24,
   "metadata": {},
   "outputs": [
    {
     "data": {
      "text/plain": [
       "<matplotlib.collections.PathCollection at 0x1c24443a90>"
      ]
     },
     "execution_count": 24,
     "metadata": {},
     "output_type": "execute_result"
    },
    {
     "data": {
      "image/png": "[encoded data removed]",
      "text/plain": [
       "<Figure size 432x288 with 1 Axes>"
      ]
     },
     "metadata": {},
     "output_type": "display_data"
    }
   ],
   "source": [
    "## PLOTTING\n",
    "fig,ax = plt.subplots(1,1)\n",
    "\n",
    "# plot the polygon\n",
    "p = PatchCollection([Polygon(poly_coords)], alpha=0.4)\n",
    "ax.add_collection(p)\n",
    "\n",
    "# plot grid points\n",
    "ax.scatter(xx[flags],yy[flags],color=\"C1\")\n",
    "ax.scatter(xx[~flags],yy[~flags],color=\"C2\")"
   ]
  },
  {
   "cell_type": "code",
   "execution_count": 25,
   "metadata": {},
   "outputs": [],
   "source": [
    "?PatchCollection"
   ]
  },
  {
   "cell_type": "code",
   "execution_count": null,
   "metadata": {},
   "outputs": [],
   "source": []
  },
  {
   "cell_type": "code",
   "execution_count": null,
   "metadata": {},
   "outputs": [],
   "source": []
  }
 ],
 "metadata": {
  "kernelspec": {
   "display_name": "Python 3",
   "language": "python",
   "name": "python3"
  },
  "language_info": {
   "codemirror_mode": {
    "name": "ipython",
    "version": 3
   },
   "file_extension": ".py",
   "mimetype": "text/x-python",
   "name": "python",
   "nbconvert_exporter": "python",
   "pygments_lexer": "ipython3",
   "version": "3.6.5"
  }
 },
 "nbformat": 4,
 "nbformat_minor": 2
}
